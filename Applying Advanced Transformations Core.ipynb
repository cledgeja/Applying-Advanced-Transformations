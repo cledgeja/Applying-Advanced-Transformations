{
 "cells": [
  {
   "cell_type": "markdown",
   "id": "efdefea0",
   "metadata": {},
   "source": [
    "# Applying Advanced Transformations (Core)"
   ]
  },
  {
   "cell_type": "code",
   "execution_count": 1,
   "id": "309b14fa",
   "metadata": {},
   "outputs": [],
   "source": [
    "import pandas as pd\n",
    "import numpy as np\n",
    "import regex as re\n",
    "import json\n",
    "import matplotlib.pyplot as plt\n",
    "from matplotlib.ticker import FuncFormatter\n",
    "import seaborn as sns\n",
    "import scipy.stats as stats"
   ]
  },
  {
   "cell_type": "markdown",
   "id": "7e4bc364",
   "metadata": {},
   "source": [
    "# Using a heavily modified version of the Superheroes dataset from [Kaggle.](https://www.kaggle.com/datasets/claudiodavi/superhero-set)\n",
    "\n",
    "* The dataset includes two csv's:\n",
    "    * [superhero_info.csv:](https://docs.google.com/spreadsheets/d/e/2PACX-1vS1ZstYLwFgwhZnqDsPjtnlHYhJp_cmW55J8JD5mym0seRsaem3px7QBtuFF0LiI7z1PLCkVKAkdO7J/pub?output=csv)\n",
    "        * Contains Name, Publisher, Demographic Info, and Body measurements.\n",
    "    * [superhero_powers.csv:](https://docs.google.com/spreadsheets/d/e/2PACX-1vSzdWOBaXOoz52vPmCFV5idNlDBohLY1Lsbc1IfZIZQ7cV_aNB2wYBfhF49uE1TaO1B5MQCGWiNrFfd/pub?output=csv)\n",
    "        * Contains Hero name and list of powers"
   ]
  },
  {
   "cell_type": "markdown",
   "id": "8dc83055",
   "metadata": {},
   "source": [
    "## load data into DataFrames\n",
    "    * df_heroes\n",
    "    * df_powers"
   ]
  },
  {
   "cell_type": "code",
   "execution_count": 2,
   "id": "52dbb811",
   "metadata": {},
   "outputs": [],
   "source": [
    "# dataset urls\n",
    "url_heroes = 'https://docs.google.com/spreadsheets/d/e/2PACX-1vS1ZstYLwFgwhZnqDsPjtnlHYhJp_cmW55J8JD5mym0seRsaem3px7QBtuFF0LiI7z1PLCkVKAkdO7J/pub?output=csv'\n",
    "url_powers = 'https://docs.google.com/spreadsheets/d/e/2PACX-1vSzdWOBaXOoz52vPmCFV5idNlDBohLY1Lsbc1IfZIZQ7cV_aNB2wYBfhF49uE1TaO1B5MQCGWiNrFfd/pub?output=csv'"
   ]
  },
  {
   "cell_type": "markdown",
   "id": "6d4117e8",
   "metadata": {},
   "source": [
    "### df_heroes"
   ]
  },
  {
   "cell_type": "code",
   "execution_count": 21,
   "id": "19f3b6b8",
   "metadata": {},
   "outputs": [
    {
     "data": {
      "text/html": [
       "<div>\n",
       "<style scoped>\n",
       "    .dataframe tbody tr th:only-of-type {\n",
       "        vertical-align: middle;\n",
       "    }\n",
       "\n",
       "    .dataframe tbody tr th {\n",
       "        vertical-align: top;\n",
       "    }\n",
       "\n",
       "    .dataframe thead th {\n",
       "        text-align: right;\n",
       "    }\n",
       "</style>\n",
       "<table border=\"1\" class=\"dataframe\">\n",
       "  <thead>\n",
       "    <tr style=\"text-align: right;\">\n",
       "      <th></th>\n",
       "      <th>Hero|Publisher</th>\n",
       "      <th>Gender</th>\n",
       "      <th>Race</th>\n",
       "      <th>Alignment</th>\n",
       "      <th>Hair color</th>\n",
       "      <th>Eye color</th>\n",
       "      <th>Skin color</th>\n",
       "      <th>Measurements</th>\n",
       "    </tr>\n",
       "  </thead>\n",
       "  <tbody>\n",
       "    <tr>\n",
       "      <th>0</th>\n",
       "      <td>A-Bomb|Marvel Comics</td>\n",
       "      <td>Male</td>\n",
       "      <td>Human</td>\n",
       "      <td>good</td>\n",
       "      <td>No Hair</td>\n",
       "      <td>yellow</td>\n",
       "      <td>Unknown</td>\n",
       "      <td>{'Height': '203.0 cm', 'Weight': '441.0 kg'}</td>\n",
       "    </tr>\n",
       "    <tr>\n",
       "      <th>1</th>\n",
       "      <td>Abe Sapien|Dark Horse Comics</td>\n",
       "      <td>Male</td>\n",
       "      <td>Icthyo Sapien</td>\n",
       "      <td>good</td>\n",
       "      <td>No Hair</td>\n",
       "      <td>blue</td>\n",
       "      <td>blue</td>\n",
       "      <td>{'Height': '191.0 cm', 'Weight': '65.0 kg'}</td>\n",
       "    </tr>\n",
       "  </tbody>\n",
       "</table>\n",
       "</div>"
      ],
      "text/plain": [
       "                 Hero|Publisher Gender           Race Alignment Hair color  \\\n",
       "0          A-Bomb|Marvel Comics   Male          Human      good    No Hair   \n",
       "1  Abe Sapien|Dark Horse Comics   Male  Icthyo Sapien      good    No Hair   \n",
       "\n",
       "  Eye color Skin color                                  Measurements  \n",
       "0    yellow    Unknown  {'Height': '203.0 cm', 'Weight': '441.0 kg'}  \n",
       "1      blue       blue   {'Height': '191.0 cm', 'Weight': '65.0 kg'}  "
      ]
     },
     "metadata": {},
     "output_type": "display_data"
    },
    {
     "name": "stdout",
     "output_type": "stream",
     "text": [
      "<class 'pandas.core.frame.DataFrame'>\n",
      "RangeIndex: 463 entries, 0 to 462\n",
      "Data columns (total 8 columns):\n",
      " #   Column          Non-Null Count  Dtype \n",
      "---  ------          --------------  ----- \n",
      " 0   Hero|Publisher  463 non-null    object\n",
      " 1   Gender          463 non-null    object\n",
      " 2   Race            463 non-null    object\n",
      " 3   Alignment       463 non-null    object\n",
      " 4   Hair color      463 non-null    object\n",
      " 5   Eye color       463 non-null    object\n",
      " 6   Skin color      463 non-null    object\n",
      " 7   Measurements    463 non-null    object\n",
      "dtypes: object(8)\n",
      "memory usage: 29.1+ KB\n"
     ]
    }
   ],
   "source": [
    "df_heroes = pd.read_csv(url_heroes)\n",
    "display(df_heroes.head(2))\n",
    "df_heroes.info()"
   ]
  },
  {
   "cell_type": "markdown",
   "id": "057180bb",
   "metadata": {},
   "source": [
    "### df_powers"
   ]
  },
  {
   "cell_type": "code",
   "execution_count": 22,
   "id": "c36bac56",
   "metadata": {},
   "outputs": [
    {
     "data": {
      "text/html": [
       "<div>\n",
       "<style scoped>\n",
       "    .dataframe tbody tr th:only-of-type {\n",
       "        vertical-align: middle;\n",
       "    }\n",
       "\n",
       "    .dataframe tbody tr th {\n",
       "        vertical-align: top;\n",
       "    }\n",
       "\n",
       "    .dataframe thead th {\n",
       "        text-align: right;\n",
       "    }\n",
       "</style>\n",
       "<table border=\"1\" class=\"dataframe\">\n",
       "  <thead>\n",
       "    <tr style=\"text-align: right;\">\n",
       "      <th></th>\n",
       "      <th>hero_names</th>\n",
       "      <th>Powers</th>\n",
       "    </tr>\n",
       "  </thead>\n",
       "  <tbody>\n",
       "    <tr>\n",
       "      <th>0</th>\n",
       "      <td>3-D Man</td>\n",
       "      <td>Agility,Super Strength,Stamina,Super Speed</td>\n",
       "    </tr>\n",
       "    <tr>\n",
       "      <th>1</th>\n",
       "      <td>A-Bomb</td>\n",
       "      <td>Accelerated Healing,Durability,Longevity,Super...</td>\n",
       "    </tr>\n",
       "  </tbody>\n",
       "</table>\n",
       "</div>"
      ],
      "text/plain": [
       "  hero_names                                             Powers\n",
       "0    3-D Man         Agility,Super Strength,Stamina,Super Speed\n",
       "1     A-Bomb  Accelerated Healing,Durability,Longevity,Super..."
      ]
     },
     "metadata": {},
     "output_type": "display_data"
    },
    {
     "name": "stdout",
     "output_type": "stream",
     "text": [
      "<class 'pandas.core.frame.DataFrame'>\n",
      "RangeIndex: 667 entries, 0 to 666\n",
      "Data columns (total 2 columns):\n",
      " #   Column      Non-Null Count  Dtype \n",
      "---  ------      --------------  ----- \n",
      " 0   hero_names  667 non-null    object\n",
      " 1   Powers      667 non-null    object\n",
      "dtypes: object(2)\n",
      "memory usage: 10.5+ KB\n"
     ]
    }
   ],
   "source": [
    "df_powers = pd.read_csv(url_powers)\n",
    "display(df_powers.head(2))\n",
    "df_powers.info()"
   ]
  },
  {
   "cell_type": "markdown",
   "id": "55e49535",
   "metadata": {},
   "source": [
    "## Final combined DataFrame:\n",
    "***df_superheroes:*** \n",
    "* Hero (Just the name of the Hero)\n",
    "* Publisher\n",
    "* Gender\n",
    "* Eye color\n",
    "* Race\n",
    "* Hair color\n",
    "* Height (numeric)\n",
    "* Skin color\n",
    "* Alignment\n",
    "* Weight (numeric)\n",
    "* Plus, one-hot-encoded columns for every power that appears in the dataset. E.g.:\n",
    "    * Agility\n",
    "    * Flight\n",
    "    * Superspeed etc."
   ]
  },
  {
   "cell_type": "markdown",
   "id": "49b98df1",
   "metadata": {},
   "source": [
    "### Prepare df_heros"
   ]
  },
  {
   "cell_type": "markdown",
   "id": "ca561255",
   "metadata": {},
   "source": [
    "split 'Hero|Publisher' into separate columns Hero and Publisher"
   ]
  },
  {
   "cell_type": "code",
   "execution_count": 23,
   "id": "96522c21",
   "metadata": {},
   "outputs": [
    {
     "data": {
      "text/html": [
       "<div>\n",
       "<style scoped>\n",
       "    .dataframe tbody tr th:only-of-type {\n",
       "        vertical-align: middle;\n",
       "    }\n",
       "\n",
       "    .dataframe tbody tr th {\n",
       "        vertical-align: top;\n",
       "    }\n",
       "\n",
       "    .dataframe thead th {\n",
       "        text-align: right;\n",
       "    }\n",
       "</style>\n",
       "<table border=\"1\" class=\"dataframe\">\n",
       "  <thead>\n",
       "    <tr style=\"text-align: right;\">\n",
       "      <th></th>\n",
       "      <th>Gender</th>\n",
       "      <th>Race</th>\n",
       "      <th>Alignment</th>\n",
       "      <th>Hair color</th>\n",
       "      <th>Eye color</th>\n",
       "      <th>Skin color</th>\n",
       "      <th>Measurements</th>\n",
       "      <th>Hero</th>\n",
       "      <th>Publisher</th>\n",
       "    </tr>\n",
       "  </thead>\n",
       "  <tbody>\n",
       "    <tr>\n",
       "      <th>0</th>\n",
       "      <td>Male</td>\n",
       "      <td>Human</td>\n",
       "      <td>good</td>\n",
       "      <td>No Hair</td>\n",
       "      <td>yellow</td>\n",
       "      <td>Unknown</td>\n",
       "      <td>{'Height': '203.0 cm', 'Weight': '441.0 kg'}</td>\n",
       "      <td>A-Bomb</td>\n",
       "      <td>Marvel Comics</td>\n",
       "    </tr>\n",
       "    <tr>\n",
       "      <th>1</th>\n",
       "      <td>Male</td>\n",
       "      <td>Icthyo Sapien</td>\n",
       "      <td>good</td>\n",
       "      <td>No Hair</td>\n",
       "      <td>blue</td>\n",
       "      <td>blue</td>\n",
       "      <td>{'Height': '191.0 cm', 'Weight': '65.0 kg'}</td>\n",
       "      <td>Abe Sapien</td>\n",
       "      <td>Dark Horse Comics</td>\n",
       "    </tr>\n",
       "    <tr>\n",
       "      <th>2</th>\n",
       "      <td>Male</td>\n",
       "      <td>Ungaran</td>\n",
       "      <td>good</td>\n",
       "      <td>No Hair</td>\n",
       "      <td>blue</td>\n",
       "      <td>red</td>\n",
       "      <td>{'Height': '185.0 cm', 'Weight': '90.0 kg'}</td>\n",
       "      <td>Abin Sur</td>\n",
       "      <td>DC Comics</td>\n",
       "    </tr>\n",
       "    <tr>\n",
       "      <th>3</th>\n",
       "      <td>Male</td>\n",
       "      <td>Human / Radiation</td>\n",
       "      <td>bad</td>\n",
       "      <td>No Hair</td>\n",
       "      <td>green</td>\n",
       "      <td>Unknown</td>\n",
       "      <td>{'Height': '203.0 cm', 'Weight': '441.0 kg'}</td>\n",
       "      <td>Abomination</td>\n",
       "      <td>Marvel Comics</td>\n",
       "    </tr>\n",
       "    <tr>\n",
       "      <th>4</th>\n",
       "      <td>Male</td>\n",
       "      <td>Human</td>\n",
       "      <td>bad</td>\n",
       "      <td>No Hair</td>\n",
       "      <td>blue</td>\n",
       "      <td>Unknown</td>\n",
       "      <td>{'Height': '193.0 cm', 'Weight': '122.0 kg'}</td>\n",
       "      <td>Absorbing Man</td>\n",
       "      <td>Marvel Comics</td>\n",
       "    </tr>\n",
       "  </tbody>\n",
       "</table>\n",
       "</div>"
      ],
      "text/plain": [
       "  Gender               Race Alignment Hair color Eye color Skin color  \\\n",
       "0   Male              Human      good    No Hair    yellow    Unknown   \n",
       "1   Male      Icthyo Sapien      good    No Hair      blue       blue   \n",
       "2   Male            Ungaran      good    No Hair      blue        red   \n",
       "3   Male  Human / Radiation       bad    No Hair     green    Unknown   \n",
       "4   Male              Human       bad    No Hair      blue    Unknown   \n",
       "\n",
       "                                   Measurements           Hero  \\\n",
       "0  {'Height': '203.0 cm', 'Weight': '441.0 kg'}         A-Bomb   \n",
       "1   {'Height': '191.0 cm', 'Weight': '65.0 kg'}     Abe Sapien   \n",
       "2   {'Height': '185.0 cm', 'Weight': '90.0 kg'}       Abin Sur   \n",
       "3  {'Height': '203.0 cm', 'Weight': '441.0 kg'}    Abomination   \n",
       "4  {'Height': '193.0 cm', 'Weight': '122.0 kg'}  Absorbing Man   \n",
       "\n",
       "           Publisher  \n",
       "0      Marvel Comics  \n",
       "1  Dark Horse Comics  \n",
       "2          DC Comics  \n",
       "3      Marvel Comics  \n",
       "4      Marvel Comics  "
      ]
     },
     "execution_count": 23,
     "metadata": {},
     "output_type": "execute_result"
    }
   ],
   "source": [
    "df_heroes[df_heroes.columns[0].split('|')] = df_heroes['Hero|Publisher'].str.split('|',expand=True)\n",
    "df_heroes.drop(columns=['Hero|Publisher'],inplace=True)\n",
    "df_heroes.head()"
   ]
  },
  {
   "cell_type": "markdown",
   "id": "ec07ad7d",
   "metadata": {},
   "source": [
    "split measurements into separate columns, just numerical data drop units "
   ]
  },
  {
   "cell_type": "code",
   "execution_count": 24,
   "id": "56ce456b",
   "metadata": {},
   "outputs": [],
   "source": [
    "# first need to format values in measurements into acceptable json format to then load as a dict\n",
    "## use .str.replace to replace all single quotes\n",
    "df_heroes['Measurements'] = df_heroes['Measurements'].str.replace(\"'\",'\"')\n",
    "## Apply the json.loads to the full column\n",
    "df_heroes['Measurements'] = df_heroes['Measurements'].apply(json.loads)"
   ]
  },
  {
   "cell_type": "code",
   "execution_count": 25,
   "id": "d4c9cd9a",
   "metadata": {},
   "outputs": [
    {
     "data": {
      "text/html": [
       "<div>\n",
       "<style scoped>\n",
       "    .dataframe tbody tr th:only-of-type {\n",
       "        vertical-align: middle;\n",
       "    }\n",
       "\n",
       "    .dataframe tbody tr th {\n",
       "        vertical-align: top;\n",
       "    }\n",
       "\n",
       "    .dataframe thead th {\n",
       "        text-align: right;\n",
       "    }\n",
       "</style>\n",
       "<table border=\"1\" class=\"dataframe\">\n",
       "  <thead>\n",
       "    <tr style=\"text-align: right;\">\n",
       "      <th></th>\n",
       "      <th>Gender</th>\n",
       "      <th>Race</th>\n",
       "      <th>Alignment</th>\n",
       "      <th>Hair color</th>\n",
       "      <th>Eye color</th>\n",
       "      <th>Skin color</th>\n",
       "      <th>Hero</th>\n",
       "      <th>Publisher</th>\n",
       "      <th>Height</th>\n",
       "      <th>Weight</th>\n",
       "    </tr>\n",
       "  </thead>\n",
       "  <tbody>\n",
       "    <tr>\n",
       "      <th>0</th>\n",
       "      <td>Male</td>\n",
       "      <td>Human</td>\n",
       "      <td>good</td>\n",
       "      <td>No Hair</td>\n",
       "      <td>yellow</td>\n",
       "      <td>Unknown</td>\n",
       "      <td>A-Bomb</td>\n",
       "      <td>Marvel Comics</td>\n",
       "      <td>203.0</td>\n",
       "      <td>441.0</td>\n",
       "    </tr>\n",
       "    <tr>\n",
       "      <th>1</th>\n",
       "      <td>Male</td>\n",
       "      <td>Icthyo Sapien</td>\n",
       "      <td>good</td>\n",
       "      <td>No Hair</td>\n",
       "      <td>blue</td>\n",
       "      <td>blue</td>\n",
       "      <td>Abe Sapien</td>\n",
       "      <td>Dark Horse Comics</td>\n",
       "      <td>191.0</td>\n",
       "      <td>65.0</td>\n",
       "    </tr>\n",
       "    <tr>\n",
       "      <th>2</th>\n",
       "      <td>Male</td>\n",
       "      <td>Ungaran</td>\n",
       "      <td>good</td>\n",
       "      <td>No Hair</td>\n",
       "      <td>blue</td>\n",
       "      <td>red</td>\n",
       "      <td>Abin Sur</td>\n",
       "      <td>DC Comics</td>\n",
       "      <td>185.0</td>\n",
       "      <td>90.0</td>\n",
       "    </tr>\n",
       "    <tr>\n",
       "      <th>3</th>\n",
       "      <td>Male</td>\n",
       "      <td>Human / Radiation</td>\n",
       "      <td>bad</td>\n",
       "      <td>No Hair</td>\n",
       "      <td>green</td>\n",
       "      <td>Unknown</td>\n",
       "      <td>Abomination</td>\n",
       "      <td>Marvel Comics</td>\n",
       "      <td>203.0</td>\n",
       "      <td>441.0</td>\n",
       "    </tr>\n",
       "    <tr>\n",
       "      <th>4</th>\n",
       "      <td>Male</td>\n",
       "      <td>Human</td>\n",
       "      <td>bad</td>\n",
       "      <td>No Hair</td>\n",
       "      <td>blue</td>\n",
       "      <td>Unknown</td>\n",
       "      <td>Absorbing Man</td>\n",
       "      <td>Marvel Comics</td>\n",
       "      <td>193.0</td>\n",
       "      <td>122.0</td>\n",
       "    </tr>\n",
       "  </tbody>\n",
       "</table>\n",
       "</div>"
      ],
      "text/plain": [
       "  Gender               Race Alignment Hair color Eye color Skin color  \\\n",
       "0   Male              Human      good    No Hair    yellow    Unknown   \n",
       "1   Male      Icthyo Sapien      good    No Hair      blue       blue   \n",
       "2   Male            Ungaran      good    No Hair      blue        red   \n",
       "3   Male  Human / Radiation       bad    No Hair     green    Unknown   \n",
       "4   Male              Human       bad    No Hair      blue    Unknown   \n",
       "\n",
       "            Hero          Publisher  Height  Weight  \n",
       "0         A-Bomb      Marvel Comics   203.0   441.0  \n",
       "1     Abe Sapien  Dark Horse Comics   191.0    65.0  \n",
       "2       Abin Sur          DC Comics   185.0    90.0  \n",
       "3    Abomination      Marvel Comics   203.0   441.0  \n",
       "4  Absorbing Man      Marvel Comics   193.0   122.0  "
      ]
     },
     "execution_count": 25,
     "metadata": {},
     "output_type": "execute_result"
    }
   ],
   "source": [
    "#use the key values in measurements dict as new column names and set value applying split with pd.Series \n",
    "df_heroes[[*df_heroes['Measurements'][0].keys()]] = df_heroes['Measurements'].apply(pd.Series).replace(r'[a-zA-Z]+','',regex=True ).astype('float') \n",
    "df_heroes.drop(columns='Measurements',inplace=True)\n",
    "df_heroes.head()\n",
    "\n",
    "## df[''].apply(lambda x: pd.Series(json.loads(x.replace(\"'\",\"\"\"))))"
   ]
  },
  {
   "cell_type": "code",
   "execution_count": 26,
   "id": "3c317a8b",
   "metadata": {},
   "outputs": [
    {
     "name": "stdout",
     "output_type": "stream",
     "text": [
      "<class 'pandas.core.frame.DataFrame'>\n",
      "RangeIndex: 463 entries, 0 to 462\n",
      "Data columns (total 10 columns):\n",
      " #   Column      Non-Null Count  Dtype  \n",
      "---  ------      --------------  -----  \n",
      " 0   Gender      463 non-null    object \n",
      " 1   Race        463 non-null    object \n",
      " 2   Alignment   463 non-null    object \n",
      " 3   Hair color  463 non-null    object \n",
      " 4   Eye color   463 non-null    object \n",
      " 5   Skin color  463 non-null    object \n",
      " 6   Hero        463 non-null    object \n",
      " 7   Publisher   463 non-null    object \n",
      " 8   Height      463 non-null    float64\n",
      " 9   Weight      463 non-null    float64\n",
      "dtypes: float64(2), object(8)\n",
      "memory usage: 36.3+ KB\n"
     ]
    }
   ],
   "source": [
    "df_heroes.info()"
   ]
  },
  {
   "cell_type": "markdown",
   "id": "7f96ca7e",
   "metadata": {},
   "source": [
    "### Prepare df_powers\n",
    "    *  one-hot-encoded columns for every power that appears in the dataset"
   ]
  },
  {
   "cell_type": "code",
   "execution_count": 27,
   "id": "8c627e09",
   "metadata": {},
   "outputs": [],
   "source": [
    "#adding to a set will only keep unique values\n",
    "powers = set()\n",
    "for line in df_powers['Powers']:\n",
    "    for power in line.split(','):\n",
    "        powers.add(power)"
   ]
  },
  {
   "cell_type": "code",
   "execution_count": 28,
   "id": "0fef41a6",
   "metadata": {},
   "outputs": [],
   "source": [
    "#convert set to list with sorted() and add as columns\n",
    "#columns will be true if that value is in original 'Powers' column\n",
    "for power in sorted(powers):\n",
    "    df = pd.DataFrame()\n",
    "    df[power] = df_powers['Powers'].str.contains(power)\n",
    "    df_powers = pd.concat([df_powers,df],axis=1)"
   ]
  },
  {
   "cell_type": "code",
   "execution_count": 29,
   "id": "06aca9c0",
   "metadata": {},
   "outputs": [
    {
     "data": {
      "text/html": [
       "<div>\n",
       "<style scoped>\n",
       "    .dataframe tbody tr th:only-of-type {\n",
       "        vertical-align: middle;\n",
       "    }\n",
       "\n",
       "    .dataframe tbody tr th {\n",
       "        vertical-align: top;\n",
       "    }\n",
       "\n",
       "    .dataframe thead th {\n",
       "        text-align: right;\n",
       "    }\n",
       "</style>\n",
       "<table border=\"1\" class=\"dataframe\">\n",
       "  <thead>\n",
       "    <tr style=\"text-align: right;\">\n",
       "      <th></th>\n",
       "      <th>Hero</th>\n",
       "      <th>Accelerated Healing</th>\n",
       "      <th>Adaptation</th>\n",
       "      <th>Agility</th>\n",
       "      <th>Animal Attributes</th>\n",
       "      <th>Animal Control</th>\n",
       "      <th>Animal Oriented Powers</th>\n",
       "      <th>Animation</th>\n",
       "      <th>Anti-Gravity</th>\n",
       "      <th>Astral Projection</th>\n",
       "      <th>...</th>\n",
       "      <th>Vision - Thermal</th>\n",
       "      <th>Vision - X-Ray</th>\n",
       "      <th>Vitakinesis</th>\n",
       "      <th>Wallcrawling</th>\n",
       "      <th>Water Control</th>\n",
       "      <th>Weapon-based Powers</th>\n",
       "      <th>Weapons Master</th>\n",
       "      <th>Weather Control</th>\n",
       "      <th>Web Creation</th>\n",
       "      <th>Wind Control</th>\n",
       "    </tr>\n",
       "  </thead>\n",
       "  <tbody>\n",
       "    <tr>\n",
       "      <th>0</th>\n",
       "      <td>3-D Man</td>\n",
       "      <td>False</td>\n",
       "      <td>False</td>\n",
       "      <td>True</td>\n",
       "      <td>False</td>\n",
       "      <td>False</td>\n",
       "      <td>False</td>\n",
       "      <td>False</td>\n",
       "      <td>False</td>\n",
       "      <td>False</td>\n",
       "      <td>...</td>\n",
       "      <td>False</td>\n",
       "      <td>False</td>\n",
       "      <td>False</td>\n",
       "      <td>False</td>\n",
       "      <td>False</td>\n",
       "      <td>False</td>\n",
       "      <td>False</td>\n",
       "      <td>False</td>\n",
       "      <td>False</td>\n",
       "      <td>False</td>\n",
       "    </tr>\n",
       "    <tr>\n",
       "      <th>1</th>\n",
       "      <td>A-Bomb</td>\n",
       "      <td>True</td>\n",
       "      <td>False</td>\n",
       "      <td>False</td>\n",
       "      <td>False</td>\n",
       "      <td>False</td>\n",
       "      <td>False</td>\n",
       "      <td>False</td>\n",
       "      <td>False</td>\n",
       "      <td>False</td>\n",
       "      <td>...</td>\n",
       "      <td>False</td>\n",
       "      <td>False</td>\n",
       "      <td>False</td>\n",
       "      <td>False</td>\n",
       "      <td>False</td>\n",
       "      <td>False</td>\n",
       "      <td>False</td>\n",
       "      <td>False</td>\n",
       "      <td>False</td>\n",
       "      <td>False</td>\n",
       "    </tr>\n",
       "    <tr>\n",
       "      <th>2</th>\n",
       "      <td>Abe Sapien</td>\n",
       "      <td>True</td>\n",
       "      <td>False</td>\n",
       "      <td>True</td>\n",
       "      <td>False</td>\n",
       "      <td>False</td>\n",
       "      <td>False</td>\n",
       "      <td>False</td>\n",
       "      <td>False</td>\n",
       "      <td>False</td>\n",
       "      <td>...</td>\n",
       "      <td>False</td>\n",
       "      <td>False</td>\n",
       "      <td>False</td>\n",
       "      <td>False</td>\n",
       "      <td>False</td>\n",
       "      <td>False</td>\n",
       "      <td>True</td>\n",
       "      <td>False</td>\n",
       "      <td>False</td>\n",
       "      <td>False</td>\n",
       "    </tr>\n",
       "    <tr>\n",
       "      <th>3</th>\n",
       "      <td>Abin Sur</td>\n",
       "      <td>False</td>\n",
       "      <td>False</td>\n",
       "      <td>False</td>\n",
       "      <td>False</td>\n",
       "      <td>False</td>\n",
       "      <td>False</td>\n",
       "      <td>False</td>\n",
       "      <td>False</td>\n",
       "      <td>False</td>\n",
       "      <td>...</td>\n",
       "      <td>False</td>\n",
       "      <td>False</td>\n",
       "      <td>False</td>\n",
       "      <td>False</td>\n",
       "      <td>False</td>\n",
       "      <td>False</td>\n",
       "      <td>False</td>\n",
       "      <td>False</td>\n",
       "      <td>False</td>\n",
       "      <td>False</td>\n",
       "    </tr>\n",
       "    <tr>\n",
       "      <th>4</th>\n",
       "      <td>Abomination</td>\n",
       "      <td>True</td>\n",
       "      <td>False</td>\n",
       "      <td>False</td>\n",
       "      <td>False</td>\n",
       "      <td>False</td>\n",
       "      <td>False</td>\n",
       "      <td>True</td>\n",
       "      <td>False</td>\n",
       "      <td>False</td>\n",
       "      <td>...</td>\n",
       "      <td>False</td>\n",
       "      <td>False</td>\n",
       "      <td>False</td>\n",
       "      <td>False</td>\n",
       "      <td>False</td>\n",
       "      <td>False</td>\n",
       "      <td>False</td>\n",
       "      <td>False</td>\n",
       "      <td>False</td>\n",
       "      <td>False</td>\n",
       "    </tr>\n",
       "  </tbody>\n",
       "</table>\n",
       "<p>5 rows × 168 columns</p>\n",
       "</div>"
      ],
      "text/plain": [
       "          Hero  Accelerated Healing  Adaptation  Agility  Animal Attributes  \\\n",
       "0      3-D Man                False       False     True              False   \n",
       "1       A-Bomb                 True       False    False              False   \n",
       "2   Abe Sapien                 True       False     True              False   \n",
       "3     Abin Sur                False       False    False              False   \n",
       "4  Abomination                 True       False    False              False   \n",
       "\n",
       "   Animal Control  Animal Oriented Powers  Animation  Anti-Gravity  \\\n",
       "0           False                   False      False         False   \n",
       "1           False                   False      False         False   \n",
       "2           False                   False      False         False   \n",
       "3           False                   False      False         False   \n",
       "4           False                   False       True         False   \n",
       "\n",
       "   Astral Projection  ...  Vision - Thermal  Vision - X-Ray  Vitakinesis  \\\n",
       "0              False  ...             False           False        False   \n",
       "1              False  ...             False           False        False   \n",
       "2              False  ...             False           False        False   \n",
       "3              False  ...             False           False        False   \n",
       "4              False  ...             False           False        False   \n",
       "\n",
       "   Wallcrawling  Water Control  Weapon-based Powers  Weapons Master  \\\n",
       "0         False          False                False           False   \n",
       "1         False          False                False           False   \n",
       "2         False          False                False            True   \n",
       "3         False          False                False           False   \n",
       "4         False          False                False           False   \n",
       "\n",
       "   Weather Control  Web Creation  Wind Control  \n",
       "0            False         False         False  \n",
       "1            False         False         False  \n",
       "2            False         False         False  \n",
       "3            False         False         False  \n",
       "4            False         False         False  \n",
       "\n",
       "[5 rows x 168 columns]"
      ]
     },
     "execution_count": 29,
     "metadata": {},
     "output_type": "execute_result"
    }
   ],
   "source": [
    "df_powers.rename(columns={'hero_names':'Hero'},inplace=True)\n",
    "df_powers.drop(columns='Powers',inplace=True)\n",
    "df_powers.head()"
   ]
  },
  {
   "cell_type": "markdown",
   "id": "c298aa67",
   "metadata": {},
   "source": [
    "### Combine df_heroes and df_powers to df_superheroes"
   ]
  },
  {
   "cell_type": "code",
   "execution_count": 30,
   "id": "f2142cf5",
   "metadata": {},
   "outputs": [
    {
     "data": {
      "text/html": [
       "<div>\n",
       "<style scoped>\n",
       "    .dataframe tbody tr th:only-of-type {\n",
       "        vertical-align: middle;\n",
       "    }\n",
       "\n",
       "    .dataframe tbody tr th {\n",
       "        vertical-align: top;\n",
       "    }\n",
       "\n",
       "    .dataframe thead th {\n",
       "        text-align: right;\n",
       "    }\n",
       "</style>\n",
       "<table border=\"1\" class=\"dataframe\">\n",
       "  <thead>\n",
       "    <tr style=\"text-align: right;\">\n",
       "      <th></th>\n",
       "      <th>Hero</th>\n",
       "      <th>Gender</th>\n",
       "      <th>Race</th>\n",
       "      <th>Alignment</th>\n",
       "      <th>Hair color</th>\n",
       "      <th>Eye color</th>\n",
       "      <th>Skin color</th>\n",
       "      <th>Publisher</th>\n",
       "      <th>Height</th>\n",
       "      <th>Weight</th>\n",
       "      <th>...</th>\n",
       "      <th>Vision - Thermal</th>\n",
       "      <th>Vision - X-Ray</th>\n",
       "      <th>Vitakinesis</th>\n",
       "      <th>Wallcrawling</th>\n",
       "      <th>Water Control</th>\n",
       "      <th>Weapon-based Powers</th>\n",
       "      <th>Weapons Master</th>\n",
       "      <th>Weather Control</th>\n",
       "      <th>Web Creation</th>\n",
       "      <th>Wind Control</th>\n",
       "    </tr>\n",
       "  </thead>\n",
       "  <tbody>\n",
       "    <tr>\n",
       "      <th>0</th>\n",
       "      <td>A-Bomb</td>\n",
       "      <td>Male</td>\n",
       "      <td>Human</td>\n",
       "      <td>good</td>\n",
       "      <td>No Hair</td>\n",
       "      <td>yellow</td>\n",
       "      <td>Unknown</td>\n",
       "      <td>Marvel Comics</td>\n",
       "      <td>203.0</td>\n",
       "      <td>441.0</td>\n",
       "      <td>...</td>\n",
       "      <td>False</td>\n",
       "      <td>False</td>\n",
       "      <td>False</td>\n",
       "      <td>False</td>\n",
       "      <td>False</td>\n",
       "      <td>False</td>\n",
       "      <td>False</td>\n",
       "      <td>False</td>\n",
       "      <td>False</td>\n",
       "      <td>False</td>\n",
       "    </tr>\n",
       "    <tr>\n",
       "      <th>1</th>\n",
       "      <td>Abe Sapien</td>\n",
       "      <td>Male</td>\n",
       "      <td>Icthyo Sapien</td>\n",
       "      <td>good</td>\n",
       "      <td>No Hair</td>\n",
       "      <td>blue</td>\n",
       "      <td>blue</td>\n",
       "      <td>Dark Horse Comics</td>\n",
       "      <td>191.0</td>\n",
       "      <td>65.0</td>\n",
       "      <td>...</td>\n",
       "      <td>False</td>\n",
       "      <td>False</td>\n",
       "      <td>False</td>\n",
       "      <td>False</td>\n",
       "      <td>False</td>\n",
       "      <td>False</td>\n",
       "      <td>True</td>\n",
       "      <td>False</td>\n",
       "      <td>False</td>\n",
       "      <td>False</td>\n",
       "    </tr>\n",
       "    <tr>\n",
       "      <th>2</th>\n",
       "      <td>Abin Sur</td>\n",
       "      <td>Male</td>\n",
       "      <td>Ungaran</td>\n",
       "      <td>good</td>\n",
       "      <td>No Hair</td>\n",
       "      <td>blue</td>\n",
       "      <td>red</td>\n",
       "      <td>DC Comics</td>\n",
       "      <td>185.0</td>\n",
       "      <td>90.0</td>\n",
       "      <td>...</td>\n",
       "      <td>False</td>\n",
       "      <td>False</td>\n",
       "      <td>False</td>\n",
       "      <td>False</td>\n",
       "      <td>False</td>\n",
       "      <td>False</td>\n",
       "      <td>False</td>\n",
       "      <td>False</td>\n",
       "      <td>False</td>\n",
       "      <td>False</td>\n",
       "    </tr>\n",
       "    <tr>\n",
       "      <th>3</th>\n",
       "      <td>Abomination</td>\n",
       "      <td>Male</td>\n",
       "      <td>Human / Radiation</td>\n",
       "      <td>bad</td>\n",
       "      <td>No Hair</td>\n",
       "      <td>green</td>\n",
       "      <td>Unknown</td>\n",
       "      <td>Marvel Comics</td>\n",
       "      <td>203.0</td>\n",
       "      <td>441.0</td>\n",
       "      <td>...</td>\n",
       "      <td>False</td>\n",
       "      <td>False</td>\n",
       "      <td>False</td>\n",
       "      <td>False</td>\n",
       "      <td>False</td>\n",
       "      <td>False</td>\n",
       "      <td>False</td>\n",
       "      <td>False</td>\n",
       "      <td>False</td>\n",
       "      <td>False</td>\n",
       "    </tr>\n",
       "    <tr>\n",
       "      <th>4</th>\n",
       "      <td>Absorbing Man</td>\n",
       "      <td>Male</td>\n",
       "      <td>Human</td>\n",
       "      <td>bad</td>\n",
       "      <td>No Hair</td>\n",
       "      <td>blue</td>\n",
       "      <td>Unknown</td>\n",
       "      <td>Marvel Comics</td>\n",
       "      <td>193.0</td>\n",
       "      <td>122.0</td>\n",
       "      <td>...</td>\n",
       "      <td>False</td>\n",
       "      <td>False</td>\n",
       "      <td>False</td>\n",
       "      <td>False</td>\n",
       "      <td>False</td>\n",
       "      <td>False</td>\n",
       "      <td>False</td>\n",
       "      <td>False</td>\n",
       "      <td>False</td>\n",
       "      <td>False</td>\n",
       "    </tr>\n",
       "  </tbody>\n",
       "</table>\n",
       "<p>5 rows × 177 columns</p>\n",
       "</div>"
      ],
      "text/plain": [
       "            Hero Gender               Race Alignment Hair color Eye color  \\\n",
       "0         A-Bomb   Male              Human      good    No Hair    yellow   \n",
       "1     Abe Sapien   Male      Icthyo Sapien      good    No Hair      blue   \n",
       "2       Abin Sur   Male            Ungaran      good    No Hair      blue   \n",
       "3    Abomination   Male  Human / Radiation       bad    No Hair     green   \n",
       "4  Absorbing Man   Male              Human       bad    No Hair      blue   \n",
       "\n",
       "  Skin color          Publisher  Height  Weight  ...  Vision - Thermal  \\\n",
       "0    Unknown      Marvel Comics   203.0   441.0  ...             False   \n",
       "1       blue  Dark Horse Comics   191.0    65.0  ...             False   \n",
       "2        red          DC Comics   185.0    90.0  ...             False   \n",
       "3    Unknown      Marvel Comics   203.0   441.0  ...             False   \n",
       "4    Unknown      Marvel Comics   193.0   122.0  ...             False   \n",
       "\n",
       "   Vision - X-Ray  Vitakinesis  Wallcrawling  Water Control  \\\n",
       "0           False        False         False          False   \n",
       "1           False        False         False          False   \n",
       "2           False        False         False          False   \n",
       "3           False        False         False          False   \n",
       "4           False        False         False          False   \n",
       "\n",
       "   Weapon-based Powers  Weapons Master  Weather Control  Web Creation  \\\n",
       "0                False           False            False         False   \n",
       "1                False            True            False         False   \n",
       "2                False           False            False         False   \n",
       "3                False           False            False         False   \n",
       "4                False           False            False         False   \n",
       "\n",
       "   Wind Control  \n",
       "0         False  \n",
       "1         False  \n",
       "2         False  \n",
       "3         False  \n",
       "4         False  \n",
       "\n",
       "[5 rows x 177 columns]"
      ]
     },
     "execution_count": 30,
     "metadata": {},
     "output_type": "execute_result"
    }
   ],
   "source": [
    "df_superheroes = pd.merge(df_heroes,df_powers,on='Hero')\n",
    "#https://www.geeksforgeeks.org/how-to-move-a-column-to-first-position-in-pandas-dataframe/\n",
    "# shift column 'Hero' to first position\n",
    "first_column = df_superheroes.pop('Hero')\n",
    "df_superheroes.insert(0, 'Hero', first_column)\n",
    "df_superheroes.head()"
   ]
  },
  {
   "cell_type": "code",
   "execution_count": 31,
   "id": "b848ce19",
   "metadata": {},
   "outputs": [
    {
     "name": "stdout",
     "output_type": "stream",
     "text": [
      "<class 'pandas.core.frame.DataFrame'>\n",
      "Int64Index: 463 entries, 0 to 462\n",
      "Columns: 177 entries, Hero to Wind Control\n",
      "dtypes: bool(167), float64(2), object(8)\n",
      "memory usage: 115.3+ KB\n"
     ]
    }
   ],
   "source": [
    "df_superheroes.info()"
   ]
  },
  {
   "cell_type": "markdown",
   "id": "89caa1b9",
   "metadata": {},
   "source": [
    "# Use combined DataFrame to answer the following questions.\n",
    "    * df_superheroes\n",
    "    * Add Distributions and Hypothesis testing "
   ]
  },
  {
   "cell_type": "code",
   "execution_count": 32,
   "id": "195ca7e6",
   "metadata": {},
   "outputs": [],
   "source": [
    "#https://stackoverflow.com/questions/61330427/set-y-axis-in-millions\n",
    "#https://stackoverflow.com/questions/70826659/matplotlib-bar-labels-with-new-f-string-format-style?noredirect=1&lq=1\n",
    "\n",
    "def human_format(num, pos):\n",
    "    magnitude = 0\n",
    "    while abs(num) >= 1000:\n",
    "        magnitude += 1\n",
    "        num /= 1000.0\n",
    "    # add more suffixes if you need them\n",
    "    return '%.0f%s' % (num, ['', 'K', 'M', 'B', 'T', 'P'][magnitude])\n",
    "formatter = FuncFormatter(human_format)"
   ]
  },
  {
   "cell_type": "markdown",
   "id": "8436b9f9",
   "metadata": {},
   "source": [
    "## Compare the average weight of super powers who have Super Speed to those who do not."
   ]
  },
  {
   "cell_type": "code",
   "execution_count": 33,
   "id": "22f8f6a0",
   "metadata": {},
   "outputs": [
    {
     "data": {
      "image/png": "[encoded data removed]",
      "text/plain": [
       "<Figure size 432x288 with 1 Axes>"
      ]
     },
     "metadata": {
      "needs_background": "light"
     },
     "output_type": "display_data"
    }
   ],
   "source": [
    "ax = df_superheroes.groupby('Super Speed')['Weight'].mean().plot.bar(x='Super Speed',rot=0)\n",
    "for container in ax.containers:\n",
    "    labels = [  f'{human_format(x,1)}' for x in container.datavalues ]\n",
    "    ax.bar_label(container,labels=labels)\n",
    "ax.set_title('Average Weight of Heroes by attribute of Super Speed')\n",
    "plt.ylabel('Weight in kg');"
   ]
  },
  {
   "cell_type": "markdown",
   "id": "2e774c40",
   "metadata": {},
   "source": [
    "### Distribution and Hypothesis testing\n",
    "    * Null Hypothesis: There is no significant difference between the Weight for Superheroes with or without Super Speed\n",
    "    * Alternate Hypothesis: There is a significant difference between the Weight for Superheroes with or without Super Speed.\n",
    "    * Significance Level (Alpha) = .05"
   ]
  },
  {
   "cell_type": "code",
   "execution_count": 109,
   "id": "c3e7bf8f",
   "metadata": {},
   "outputs": [],
   "source": [
    "#Split data into the groups by feature of interest\n",
    "df_super_speed = df_superheroes.loc[df_superheroes['Super Speed']== True].copy()\n",
    "df_super_speed_no = df_superheroes.loc[df_superheroes['Super Speed']== False].copy()"
   ]
  },
  {
   "cell_type": "code",
   "execution_count": 110,
   "id": "9539dcb2",
   "metadata": {},
   "outputs": [
    {
     "data": {
      "image/png": "[encoded data removed]",
      "text/plain": [
       "<Figure size 1080x576 with 2 Axes>"
      ]
     },
     "metadata": {
      "needs_background": "light"
     },
     "output_type": "display_data"
    }
   ],
   "source": [
    "fig, (ax,ax2) = plt.subplots(figsize= (15,8),ncols=2,constrained_layout=True,\n",
    "                            gridspec_kw={'width_ratios':[0.8,0.2]})\n",
    "sns.histplot(data=df_superheroes, x='Weight',hue='Super Speed',kde=True\n",
    "                  ,stat='density',alpha=.5,hue_order=[True,False],ax=ax)\n",
    "sns.barplot(data=df_superheroes, x='Super Speed',y='Weight',ax = ax2,hue='Super Speed',hue_order=[True,False],alpha=.7) \n",
    "\n",
    "ax.axvline(df_super_speed['Weight'].mean(), ls='--',lw=3, \n",
    "           label=f\"True (Mean={df_super_speed['Weight'].mean():.2f})\",color='blue')\n",
    "\n",
    "ax.axvline(df_super_speed_no['Weight'].mean(), ls='--', lw=3, \n",
    "           label=f\"False (Mean={df_super_speed_no['Weight'].mean():.2f})\",color='orange')\n",
    "\n",
    "ax.legend(prop={\"size\":14}, loc='upper right')\n",
    "fig.suptitle('Super Hero Weight by Super Speed',fontsize='xx-large');"
   ]
  },
  {
   "cell_type": "markdown",
   "id": "c5874d37",
   "metadata": {
    "heading_collapsed": true
   },
   "source": [
    "#### Check for and remove outliers\n",
    "    * Check each group separately for outliers."
   ]
  },
  {
   "cell_type": "code",
   "execution_count": 111,
   "id": "1d612fc0",
   "metadata": {
    "hidden": true
   },
   "outputs": [
    {
     "data": {
      "text/plain": [
       "4"
      ]
     },
     "execution_count": 111,
     "metadata": {},
     "output_type": "execute_result"
    }
   ],
   "source": [
    "# Check for outliers in weight in Super Speed group\n",
    "zscores= stats.zscore(df_super_speed['Weight'])\n",
    "outliers = abs(zscores)>3\n",
    "np.sum(outliers)"
   ]
  },
  {
   "cell_type": "code",
   "execution_count": 112,
   "id": "944fdce7",
   "metadata": {
    "hidden": true
   },
   "outputs": [
    {
     "data": {
      "text/plain": [
       "(198, 177)"
      ]
     },
     "metadata": {},
     "output_type": "display_data"
    },
    {
     "data": {
      "text/plain": [
       "(194, 177)"
      ]
     },
     "metadata": {},
     "output_type": "display_data"
    }
   ],
   "source": [
    "#remove outliers\n",
    "display(df_super_speed.shape)\n",
    "df_super_speed = df_super_speed[(np.abs(stats.zscore(df_super_speed['Weight'])) < 3)]\n",
    "display(df_super_speed.shape)"
   ]
  },
  {
   "cell_type": "code",
   "execution_count": 113,
   "id": "fe565a4e",
   "metadata": {
    "hidden": true
   },
   "outputs": [
    {
     "data": {
      "text/plain": [
       "7"
      ]
     },
     "execution_count": 113,
     "metadata": {},
     "output_type": "execute_result"
    }
   ],
   "source": [
    "# Check for outliers in weight for not in Super Speed group\n",
    "zscores= stats.zscore(df_super_speed_no['Weight'])\n",
    "outliers = abs(zscores)>3\n",
    "np.sum(outliers)"
   ]
  },
  {
   "cell_type": "code",
   "execution_count": 115,
   "id": "e6b9d2d0",
   "metadata": {
    "hidden": true
   },
   "outputs": [
    {
     "data": {
      "text/plain": [
       "(265, 177)"
      ]
     },
     "metadata": {},
     "output_type": "display_data"
    },
    {
     "data": {
      "text/plain": [
       "(258, 177)"
      ]
     },
     "metadata": {},
     "output_type": "display_data"
    }
   ],
   "source": [
    "#remove outliers\n",
    "display(df_super_speed_no.shape)\n",
    "df_super_speed_no = df_super_speed_no[(np.abs(stats.zscore(df_super_speed_no['Weight'])) < 3)]\n",
    "display(df_super_speed_no.shape)"
   ]
  },
  {
   "cell_type": "markdown",
   "id": "3557589e",
   "metadata": {},
   "source": [
    "#### Check Normality for each group"
   ]
  },
  {
   "cell_type": "code",
   "execution_count": 118,
   "id": "acaab740",
   "metadata": {},
   "outputs": [
    {
     "data": {
      "text/plain": [
       "NormaltestResult(statistic=106.01770069134254, pvalue=9.51806799195122e-24)"
      ]
     },
     "execution_count": 118,
     "metadata": {},
     "output_type": "execute_result"
    }
   ],
   "source": [
    "# test Super Speed normality\n",
    "result_speed_weight = stats.normaltest(df_super_speed['Weight'])\n",
    "result_speed_weight"
   ]
  },
  {
   "cell_type": "code",
   "execution_count": 119,
   "id": "cdc3c37f",
   "metadata": {},
   "outputs": [
    {
     "data": {
      "text/plain": [
       "NormaltestResult(statistic=169.5239915331327, pvalue=1.5428828920285214e-37)"
      ]
     },
     "execution_count": 119,
     "metadata": {},
     "output_type": "execute_result"
    }
   ],
   "source": [
    "# test Super Speed normality\n",
    "result_speed_no_weight = stats.normaltest(df_super_speed_no['Weight'])\n",
    "result_speed_no_weight"
   ]
  },
  {
   "cell_type": "markdown",
   "id": "2efba760",
   "metadata": {},
   "source": [
    "P-values for both groups are well below 0.05; data is NOT normally distributed.  However, our our sample size is large enough to proceed without satisfying this test.  For an independent t test, sample sizes of 15 per group are considered sufficient."
   ]
  },
  {
   "cell_type": "markdown",
   "id": "8871e3d5",
   "metadata": {},
   "source": [
    "#### Check for Equal Variance"
   ]
  },
  {
   "cell_type": "code",
   "execution_count": 121,
   "id": "a5209194",
   "metadata": {},
   "outputs": [
    {
     "data": {
      "text/plain": [
       "LeveneResult(statistic=12.364895713193937, pvalue=0.00048186933645444856)"
      ]
     },
     "execution_count": 121,
     "metadata": {},
     "output_type": "execute_result"
    }
   ],
   "source": [
    "# Test for equal variance\n",
    "result = stats.levene(df_super_speed['Weight'], df_super_speed_no['Weight'])\n",
    "result"
   ]
  },
  {
   "cell_type": "markdown",
   "id": "f00b8d2a",
   "metadata": {},
   "source": [
    "Do not have equal variances. need to set \"equal_var = False\" when we perform our t-test."
   ]
  },
  {
   "cell_type": "markdown",
   "id": "39640c0f",
   "metadata": {},
   "source": [
    "#### Perform and evaluate the t-test"
   ]
  },
  {
   "cell_type": "code",
   "execution_count": 125,
   "id": "681b0c9d",
   "metadata": {},
   "outputs": [
    {
     "data": {
      "text/plain": [
       "Ttest_indResult(statistic=3.709473871663429, pvalue=0.0002460215463032288)"
      ]
     },
     "execution_count": 125,
     "metadata": {},
     "output_type": "execute_result"
    }
   ],
   "source": [
    "# Independent t-test with equal_var set to False\n",
    "result = stats.ttest_ind(df_super_speed['Weight'], df_super_speed_no['Weight'], equal_var = False)\n",
    "result"
   ]
  },
  {
   "cell_type": "markdown",
   "id": "8055099f",
   "metadata": {},
   "source": [
    "**P value < alpha (0.05), reject the null hypothesis and accept that there is a significant difference between the weights of super heroes who have \"Super Speed\" and those who do not.**"
   ]
  },
  {
   "cell_type": "markdown",
   "id": "ce882cad",
   "metadata": {},
   "source": [
    "## What is the average height of heroes for each publisher?\n"
   ]
  },
  {
   "cell_type": "code",
   "execution_count": 123,
   "id": "f7708bf0",
   "metadata": {},
   "outputs": [
    {
     "data": {
      "image/png": "[encoded data removed]",
      "text/plain": [
       "<Figure size 432x288 with 1 Axes>"
      ]
     },
     "metadata": {
      "needs_background": "light"
     },
     "output_type": "display_data"
    }
   ],
   "source": [
    "ax = df_superheroes.groupby('Publisher')['Height'].mean().plot.bar(x='Publisher',rot=80)\n",
    "for container in ax.containers:\n",
    "    labels = [  f'{human_format(x,1)}' for x in container.datavalues ]\n",
    "    ax.bar_label(container,labels=labels)\n",
    "ax.set_title('Average Height of Hero by Publisher');\n",
    "plt.ylabel('Height in cm');"
   ]
  },
  {
   "cell_type": "code",
   "execution_count": 148,
   "id": "b57994ec",
   "metadata": {},
   "outputs": [
    {
     "data": {
      "text/plain": [
       "Marvel Comics        297\n",
       "DC Comics            138\n",
       "Dark Horse Comics     11\n",
       "George Lucas           5\n",
       "Team Epic TV           4\n",
       "Shueisha               4\n",
       "Star Trek              2\n",
       "Unknown                1\n",
       "Image Comics           1\n",
       "Name: Publisher, dtype: int64"
      ]
     },
     "execution_count": 148,
     "metadata": {},
     "output_type": "execute_result"
    }
   ],
   "source": [
    "df_superheroes['Publisher'].value_counts()"
   ]
  }
 ],
 "metadata": {
  "kernelspec": {
   "display_name": "Python (dojo-env)",
   "language": "python",
   "name": "dojo-env"
  },
  "language_info": {
   "codemirror_mode": {
    "name": "ipython",
    "version": 3
   },
   "file_extension": ".py",
   "mimetype": "text/x-python",
   "name": "python",
   "nbconvert_exporter": "python",
   "pygments_lexer": "ipython3",
   "version": "3.8.13"
  },
  "toc": {
   "base_numbering": 1,
   "nav_menu": {},
   "number_sections": true,
   "sideBar": true,
   "skip_h1_title": false,
   "title_cell": "Table of Contents",
   "title_sidebar": "Contents",
   "toc_cell": false,
   "toc_position": {},
   "toc_section_display": true,
   "toc_window_display": false
  }
 },
 "nbformat": 4,
 "nbformat_minor": 5
}
